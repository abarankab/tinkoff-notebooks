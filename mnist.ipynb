{
  "nbformat": 4,
  "nbformat_minor": 0,
  "metadata": {
    "colab": {
      "name": "mnist.ipynb",
      "provenance": [],
      "collapsed_sections": [],
      "include_colab_link": true
    },
    "kernelspec": {
      "name": "python3",
      "display_name": "Python 3"
    },
    "accelerator": "GPU"
  },
  "cells": [
    {
      "cell_type": "markdown",
      "metadata": {
        "id": "view-in-github",
        "colab_type": "text"
      },
      "source": [
        "<a href=\"https://colab.research.google.com/github/abarankab/tinkoff_notebooks/blob/master/mnist.ipynb\" target=\"_parent\"><img src=\"https://colab.research.google.com/assets/colab-badge.svg\" alt=\"Open In Colab\"/></a>"
      ]
    },
    {
      "cell_type": "code",
      "metadata": {
        "id": "4jiJk_CpXq6K",
        "colab_type": "code",
        "outputId": "dd89ef18-4042-4713-eeb9-dc239feb6c37",
        "colab": {
          "base_uri": "https://localhost:8080/",
          "height": 72
        }
      },
      "source": [
        "# http://pytorch.org/\n",
        "from os.path import exists\n",
        "from wheel.pep425tags import get_abbr_impl, get_impl_ver, get_abi_tag\n",
        "platform = '{}{}-{}'.format(get_abbr_impl(), get_impl_ver(), get_abi_tag())\n",
        "cuda_output = !ldconfig -p|grep cudart.so|sed -e 's/.*\\.\\([0-9]*\\)\\.\\([0-9]*\\)$/cu\\1\\2/'\n",
        "accelerator = cuda_output[0] if exists('/dev/nvidia0') else 'cpu'\n",
        "\n",
        "!pip install -q http://download.pytorch.org/whl/{accelerator}/torch-0.4.1-{platform}-linux_x86_64.whl torchvision\n",
        "!pip install tqdm\n",
        "\n",
        "from tqdm import tqdm\n",
        "import torch\n",
        "import torch.utils.data\n",
        "from torch import nn, optim\n",
        "from torch.nn import functional as F\n",
        "from torchvision import datasets, transforms\n",
        "from torchvision.utils import save_image\n",
        "\n",
        "import numpy as np\n",
        "import matplotlib.pyplot as plt\n",
        "from matplotlib.animation import FuncAnimation\n",
        "from IPython.display import HTML, display\n",
        "%matplotlib inline"
      ],
      "execution_count": 0,
      "outputs": [
        {
          "output_type": "stream",
          "text": [
            "tcmalloc: large alloc 1073750016 bytes == 0x57e00000 @  0x7f1eca9962a4 0x594e17 0x626104 0x51190a 0x4f5277 0x510c78 0x5119bd 0x4f5277 0x4f3338 0x510fb0 0x5119bd 0x4f5277 0x4f3338 0x510fb0 0x5119bd 0x4f5277 0x4f3338 0x510fb0 0x5119bd 0x4f6070 0x510c78 0x5119bd 0x4f5277 0x4f3338 0x510fb0 0x5119bd 0x4f6070 0x4f3338 0x510fb0 0x5119bd 0x4f6070\n",
            "Requirement already satisfied: tqdm in /usr/local/lib/python3.6/dist-packages (4.28.1)\n"
          ],
          "name": "stdout"
        }
      ]
    },
    {
      "cell_type": "code",
      "metadata": {
        "id": "4K0joUQH-H6n",
        "colab_type": "code",
        "colab": {}
      },
      "source": [
        "from matplotlib import animation\n",
        "from matplotlib.animation import FuncAnimation"
      ],
      "execution_count": 0,
      "outputs": []
    },
    {
      "cell_type": "code",
      "metadata": {
        "id": "-aLGnF9lwDnB",
        "colab_type": "code",
        "outputId": "ecf5dd72-5b7c-485a-f1dd-e86945e1ab79",
        "colab": {
          "base_uri": "https://localhost:8080/",
          "height": 123
        }
      },
      "source": [
        "dataset = datasets.MNIST('mnist', train=True, download=True,\n",
        "                         transform=transforms.ToTensor())\n",
        "dataloader = torch.utils.data.DataLoader(dataset, batch_size=64, shuffle=True)"
      ],
      "execution_count": 0,
      "outputs": [
        {
          "output_type": "stream",
          "text": [
            "Downloading http://yann.lecun.com/exdb/mnist/train-images-idx3-ubyte.gz\n",
            "Downloading http://yann.lecun.com/exdb/mnist/train-labels-idx1-ubyte.gz\n",
            "Downloading http://yann.lecun.com/exdb/mnist/t10k-images-idx3-ubyte.gz\n",
            "Downloading http://yann.lecun.com/exdb/mnist/t10k-labels-idx1-ubyte.gz\n",
            "Processing...\n",
            "Done!\n"
          ],
          "name": "stdout"
        }
      ]
    },
    {
      "cell_type": "code",
      "metadata": {
        "id": "vaow61X2wRjE",
        "colab_type": "code",
        "outputId": "fe2a5735-9219-4a26-ae35-d1ba37877d17",
        "colab": {
          "base_uri": "https://localhost:8080/",
          "height": 35
        }
      },
      "source": [
        "device = torch.device('cuda:0')\n",
        "torch.cuda.is_available()"
      ],
      "execution_count": 0,
      "outputs": [
        {
          "output_type": "execute_result",
          "data": {
            "text/plain": [
              "True"
            ]
          },
          "metadata": {
            "tags": []
          },
          "execution_count": 4
        }
      ]
    },
    {
      "cell_type": "code",
      "metadata": {
        "id": "rxok3AejboBY",
        "colab_type": "code",
        "colab": {}
      },
      "source": [
        "class Reshape(nn.Module):\n",
        "  def __init__(self, shape):\n",
        "    super().__init__()\n",
        "    self.shape = shape\n",
        "  \n",
        "  def forward(self, input):\n",
        "    return input.view(input.shape[0], *self.shape)\n",
        "    \n",
        "\n",
        "class Printer(nn.Module):\n",
        "  def __init__(self):\n",
        "    super().__init__()\n",
        "    \n",
        "  def forward(self, input):\n",
        "    print(input[0].shape)\n",
        "    return input"
      ],
      "execution_count": 0,
      "outputs": []
    },
    {
      "cell_type": "code",
      "metadata": {
        "id": "D0UwVaxCyYCu",
        "colab_type": "code",
        "colab": {}
      },
      "source": [
        "HIDDEN_STATE = 14\n",
        "BETA = -0.048"
      ],
      "execution_count": 0,
      "outputs": []
    },
    {
      "cell_type": "code",
      "metadata": {
        "id": "pUdy9V-JXuHy",
        "colab_type": "code",
        "colab": {}
      },
      "source": [
        "class VAE(nn.Module):\n",
        "  def __init__(self):\n",
        "    super().__init__()\n",
        "    \n",
        "    self.encoder = nn.Sequential(\n",
        "        nn.Conv2d(1, 16, kernel_size=3, stride=1, padding=2),\n",
        "        nn.MaxPool2d(kernel_size=2, stride=2),\n",
        "        #nn.BatchNorm2d(16),\n",
        "        \n",
        "        nn.Conv2d(16, 32, kernel_size=3, stride=1, padding=2),\n",
        "        nn.MaxPool2d(kernel_size=2, stride=2),\n",
        "        #nn.BatchNorm2d(32),\n",
        "        \n",
        "        nn.Conv2d(32, 64, kernel_size=3, stride=1, padding=2),\n",
        "        nn.MaxPool2d(kernel_size=2, stride=2),\n",
        "        #nn.BatchNorm2d(64),\n",
        "        \n",
        "        Reshape((-1,)),\n",
        "        nn.Linear(1600, HIDDEN_STATE * 2),\n",
        "    )\n",
        "    \n",
        "    self.decoder = nn.Sequential(\n",
        "        nn.Linear(HIDDEN_STATE, 196),\n",
        "        #nn.BatchNorm1d(196),\n",
        "        nn.Linear(196, 392),\n",
        "        #nn.BatchNorm1d(392),\n",
        "        nn.Linear(392, 784),\n",
        "        #nn.BatchNorm1d(784),\n",
        "        Reshape((1, 28, 28,)),\n",
        "    )\n",
        "  \n",
        "    \n",
        "  def reparameterize(self, mu, logvar):\n",
        "    std = logvar.mul(0.5).exp_()\n",
        "    eps = std.data.new(std.size()).normal_()\n",
        "    return eps.mul(std).add_(mu)\n",
        "  \n",
        "  def forward(self, input):\n",
        "    result = self.encoder(input)\n",
        "    mu, logvar = result[:, :14], result[:, 14:]\n",
        "    z = self.reparameterize(mu, logvar)\n",
        "    return self.decoder(z), mu, logvar\n",
        "\n",
        "model = VAE().to(device)\n",
        "optimizer = optim.Adam(model.parameters(), lr=1e-3)"
      ],
      "execution_count": 0,
      "outputs": []
    },
    {
      "cell_type": "code",
      "metadata": {
        "id": "Vyy_4Clvmxvw",
        "colab_type": "code",
        "colab": {}
      },
      "source": [
        "def loss_function(recon_x, x, mu, logvar):\n",
        "  MSE = F.mse_loss(recon_x, x)\n",
        "  \n",
        "  #BCE = F.binary_cross_entropy(recon_x, x.view(-1, 784), size_average=False)\n",
        "  KLD = BETA * torch.sum(1 + logvar - mu.pow(2) - logvar.exp())\n",
        "  return MSE + KLD"
      ],
      "execution_count": 0,
      "outputs": []
    },
    {
      "cell_type": "code",
      "metadata": {
        "id": "AjFaRBpjmzSc",
        "colab_type": "code",
        "outputId": "e6fbfb41-de52-4e92-bc00-7812f3406644",
        "colab": {
          "base_uri": "https://localhost:8080/",
          "height": 248
        }
      },
      "source": [
        "for epoch in range(5):\n",
        "    train_loss = 0\n",
        "    for data, _ in tqdm(dataloader):\n",
        "        data = data.to(device)\n",
        "        optimizer.zero_grad()\n",
        "        \n",
        "        recon_batch, mu, logvar = model(data)\n",
        "        loss = loss_function(recon_batch, data, mu, logvar)\n",
        "        loss.backward()\n",
        "        \n",
        "        train_loss += loss.data[0]\n",
        "        optimizer.step()\n",
        "        \n",
        "    print('epoch %d, loss %.4f' % (epoch, train_loss / len(dataset)))"
      ],
      "execution_count": 0,
      "outputs": [
        {
          "output_type": "stream",
          "text": [
            "  0%|          | 0/938 [00:00<?, ?it/s]/usr/local/lib/python3.6/dist-packages/ipykernel_launcher.py:11: UserWarning: invalid index of a 0-dim tensor. This will be an error in PyTorch 0.5. Use tensor.item() to convert a 0-dim tensor to a Python number\n",
            "  # This is added back by InteractiveShellApp.init_path()\n",
            "100%|██████████| 938/938 [00:17<00:00, 53.62it/s]\n",
            "  1%|          | 6/938 [00:00<00:17, 51.86it/s]"
          ],
          "name": "stderr"
        },
        {
          "output_type": "stream",
          "text": [
            "epoch 0, loss 0.0011\n"
          ],
          "name": "stdout"
        },
        {
          "output_type": "stream",
          "text": [
            "100%|██████████| 938/938 [00:17<00:00, 53.05it/s]\n",
            "  1%|          | 5/938 [00:00<00:19, 46.86it/s]"
          ],
          "name": "stderr"
        },
        {
          "output_type": "stream",
          "text": [
            "epoch 1, loss 0.0011\n"
          ],
          "name": "stdout"
        },
        {
          "output_type": "stream",
          "text": [
            "100%|██████████| 938/938 [00:17<00:00, 53.05it/s]\n",
            "  1%|          | 6/938 [00:00<00:18, 51.23it/s]"
          ],
          "name": "stderr"
        },
        {
          "output_type": "stream",
          "text": [
            "epoch 2, loss 0.0011\n"
          ],
          "name": "stdout"
        },
        {
          "output_type": "stream",
          "text": [
            "100%|██████████| 938/938 [00:17<00:00, 53.53it/s]\n",
            "  1%|          | 6/938 [00:00<00:17, 52.33it/s]"
          ],
          "name": "stderr"
        },
        {
          "output_type": "stream",
          "text": [
            "epoch 3, loss 0.0011\n"
          ],
          "name": "stdout"
        },
        {
          "output_type": "stream",
          "text": [
            "100%|██████████| 938/938 [00:17<00:00, 52.99it/s]"
          ],
          "name": "stderr"
        },
        {
          "output_type": "stream",
          "text": [
            "epoch 4, loss 0.0011\n"
          ],
          "name": "stdout"
        },
        {
          "output_type": "stream",
          "text": [
            "\n"
          ],
          "name": "stderr"
        }
      ]
    },
    {
      "cell_type": "code",
      "metadata": {
        "id": "z_U_fZFCyBmy",
        "colab_type": "code",
        "colab": {}
      },
      "source": [
        "example = model.decoder(torch.randn(64, 14).to(device))"
      ],
      "execution_count": 0,
      "outputs": []
    },
    {
      "cell_type": "code",
      "metadata": {
        "id": "vumQ9jYGzUl4",
        "colab_type": "code",
        "outputId": "9c4b972e-81e3-4358-ad37-101fe7b28a90",
        "colab": {
          "base_uri": "https://localhost:8080/",
          "height": 283
        }
      },
      "source": [
        "im = example[8].cpu().detach().numpy().astype('float').reshape(28, 28)\n",
        "\n",
        "plt.axis('off')\n",
        "plt.imshow(im)"
      ],
      "execution_count": 0,
      "outputs": [
        {
          "output_type": "execute_result",
          "data": {
            "text/plain": [
              "<matplotlib.image.AxesImage at 0x7fd68a068940>"
            ]
          },
          "metadata": {
            "tags": []
          },
          "execution_count": 23
        },
        {
          "output_type": "display_data",
          "data": {
            "image/png": "[encoded data removed]",
            "text/plain": [
              "<matplotlib.figure.Figure at 0x7fd68d6637f0>"
            ]
          },
          "metadata": {
            "tags": []
          }
        }
      ]
    },
    {
      "cell_type": "code",
      "metadata": {
        "id": "UyzYabFZ6VVf",
        "colab_type": "code",
        "outputId": "05ea8c56-3eda-46c2-835d-9a0bd8ade9b5",
        "colab": {
          "base_uri": "https://localhost:8080/",
          "height": 35
        }
      },
      "source": [
        "data = None\n",
        "for q, _ in dataloader:\n",
        "  print(q.shape)\n",
        "  data = q.to(device)\n",
        "  break"
      ],
      "execution_count": 0,
      "outputs": [
        {
          "output_type": "stream",
          "text": [
            "torch.Size([64, 1, 28, 28])\n"
          ],
          "name": "stdout"
        }
      ]
    },
    {
      "cell_type": "code",
      "metadata": {
        "id": "BJ7UycCd2J9n",
        "colab_type": "code",
        "colab": {}
      },
      "source": [
        "dataset = datasets.MNIST('mnist', train=False, download=True,\n",
        "        transform=transforms.ToTensor())\n",
        "\n",
        "def get(x):\n",
        "    return dataset[x][0].view(1, 1, 28, 28)\n",
        "\n",
        "def imshow(img):\n",
        "    pic = img.numpy().astype('float')\n",
        "    plt.axis('off')\n",
        "    return plt.imshow(pic, cmap='Greys', animated=True)\n",
        "\n",
        "def morph(inputs, steps, delay):\n",
        "    latent = [model.encoder(get(k).to(device)).data for k in inputs]\n",
        "    fig = plt.figure()\n",
        "    images = []\n",
        "    for a, b in zip(latent, latent[1:] + [latent[0]]):\n",
        "        for t in np.linspace(0, 1, steps):\n",
        "            c = a*(1-t)+b*t\n",
        "            c = c[:, :14]\n",
        "            #print(c)\n",
        "            morphed = model.decoder(c).data\n",
        "            morphed = morphed.view(28, 28)\n",
        "            #print(morphed[0])\n",
        "            morphed = morphed.cpu().detach()\n",
        "            #print(morphed.mean())\n",
        "            images.append([imshow(morphed)])\n",
        "    \n",
        "    ani = animation.ArtistAnimation(fig, images, interval=delay)\n",
        "\n",
        "    display(HTML(ani.to_html5_video()))"
      ],
      "execution_count": 0,
      "outputs": []
    },
    {
      "cell_type": "code",
      "metadata": {
        "id": "aMe4Ikyx_W9M",
        "colab_type": "code",
        "colab": {}
      },
      "source": [
        "!which ffmpeg\n",
        "plt.rcParams['animation.ffmpeg_path'] = u'/usr/bin/ffmpeg'    "
      ],
      "execution_count": 0,
      "outputs": []
    },
    {
      "cell_type": "code",
      "metadata": {
        "id": "AtFh7cjF8K3R",
        "colab_type": "code",
        "outputId": "e90efb9d-67bb-41e1-afdf-861be6eb77cf",
        "colab": {
          "base_uri": "https://localhost:8080/",
          "height": 803
        }
      },
      "source": [
        "print(animation.writers.list())\n",
        "\n",
        "morph(np.random.randint(0, len(dataset), 30), 20, 30)"
      ],
      "execution_count": 0,
      "outputs": [
        {
          "output_type": "stream",
          "text": [
            "['html']\n"
          ],
          "name": "stdout"
        },
        {
          "output_type": "error",
          "ename": "KeyError",
          "evalue": "ignored",
          "traceback": [
            "\u001b[0;31m---------------------------------------------------------------------------\u001b[0m",
            "\u001b[0;31mKeyError\u001b[0m                                  Traceback (most recent call last)",
            "\u001b[0;32m<ipython-input-15-ed6692976a63>\u001b[0m in \u001b[0;36m<module>\u001b[0;34m()\u001b[0m\n\u001b[1;32m      1\u001b[0m \u001b[0mprint\u001b[0m\u001b[0;34m(\u001b[0m\u001b[0manimation\u001b[0m\u001b[0;34m.\u001b[0m\u001b[0mwriters\u001b[0m\u001b[0;34m.\u001b[0m\u001b[0mlist\u001b[0m\u001b[0;34m(\u001b[0m\u001b[0;34m)\u001b[0m\u001b[0;34m)\u001b[0m\u001b[0;34m\u001b[0m\u001b[0m\n\u001b[1;32m      2\u001b[0m \u001b[0;34m\u001b[0m\u001b[0m\n\u001b[0;32m----> 3\u001b[0;31m \u001b[0mmorph\u001b[0m\u001b[0;34m(\u001b[0m\u001b[0mnp\u001b[0m\u001b[0;34m.\u001b[0m\u001b[0mrandom\u001b[0m\u001b[0;34m.\u001b[0m\u001b[0mrandint\u001b[0m\u001b[0;34m(\u001b[0m\u001b[0;36m0\u001b[0m\u001b[0;34m,\u001b[0m \u001b[0mlen\u001b[0m\u001b[0;34m(\u001b[0m\u001b[0mdataset\u001b[0m\u001b[0;34m)\u001b[0m\u001b[0;34m,\u001b[0m \u001b[0;36m30\u001b[0m\u001b[0;34m)\u001b[0m\u001b[0;34m,\u001b[0m \u001b[0;36m20\u001b[0m\u001b[0;34m,\u001b[0m \u001b[0;36m30\u001b[0m\u001b[0;34m)\u001b[0m\u001b[0;34m\u001b[0m\u001b[0m\n\u001b[0m",
            "\u001b[0;32m<ipython-input-13-ec4abcfe7fd9>\u001b[0m in \u001b[0;36mmorph\u001b[0;34m(inputs, steps, delay)\u001b[0m\n\u001b[1;32m     28\u001b[0m     \u001b[0mani\u001b[0m \u001b[0;34m=\u001b[0m \u001b[0manimation\u001b[0m\u001b[0;34m.\u001b[0m\u001b[0mArtistAnimation\u001b[0m\u001b[0;34m(\u001b[0m\u001b[0mfig\u001b[0m\u001b[0;34m,\u001b[0m \u001b[0mimages\u001b[0m\u001b[0;34m,\u001b[0m \u001b[0minterval\u001b[0m\u001b[0;34m=\u001b[0m\u001b[0mdelay\u001b[0m\u001b[0;34m)\u001b[0m\u001b[0;34m\u001b[0m\u001b[0m\n\u001b[1;32m     29\u001b[0m \u001b[0;34m\u001b[0m\u001b[0m\n\u001b[0;32m---> 30\u001b[0;31m     \u001b[0mdisplay\u001b[0m\u001b[0;34m(\u001b[0m\u001b[0mHTML\u001b[0m\u001b[0;34m(\u001b[0m\u001b[0mani\u001b[0m\u001b[0;34m.\u001b[0m\u001b[0mto_html5_video\u001b[0m\u001b[0;34m(\u001b[0m\u001b[0;34m)\u001b[0m\u001b[0;34m)\u001b[0m\u001b[0;34m)\u001b[0m\u001b[0;34m\u001b[0m\u001b[0m\n\u001b[0m",
            "\u001b[0;32m/usr/local/lib/python3.6/dist-packages/matplotlib/animation.py\u001b[0m in \u001b[0;36mto_html5_video\u001b[0;34m(self, embed_limit)\u001b[0m\n\u001b[1;32m   1407\u001b[0m                 \u001b[0;31m# We create a writer manually so that we can get the\u001b[0m\u001b[0;34m\u001b[0m\u001b[0;34m\u001b[0m\u001b[0m\n\u001b[1;32m   1408\u001b[0m                 \u001b[0;31m# appropriate size for the tag\u001b[0m\u001b[0;34m\u001b[0m\u001b[0;34m\u001b[0m\u001b[0m\n\u001b[0;32m-> 1409\u001b[0;31m                 \u001b[0mWriter\u001b[0m \u001b[0;34m=\u001b[0m \u001b[0mwriters\u001b[0m\u001b[0;34m[\u001b[0m\u001b[0mrcParams\u001b[0m\u001b[0;34m[\u001b[0m\u001b[0;34m'animation.writer'\u001b[0m\u001b[0;34m]\u001b[0m\u001b[0;34m]\u001b[0m\u001b[0;34m\u001b[0m\u001b[0m\n\u001b[0m\u001b[1;32m   1410\u001b[0m                 writer = Writer(codec='h264',\n\u001b[1;32m   1411\u001b[0m                                 \u001b[0mbitrate\u001b[0m\u001b[0;34m=\u001b[0m\u001b[0mrcParams\u001b[0m\u001b[0;34m[\u001b[0m\u001b[0;34m'animation.bitrate'\u001b[0m\u001b[0;34m]\u001b[0m\u001b[0;34m,\u001b[0m\u001b[0;34m\u001b[0m\u001b[0m\n",
            "\u001b[0;32m/usr/local/lib/python3.6/dist-packages/matplotlib/animation.py\u001b[0m in \u001b[0;36m__getitem__\u001b[0;34m(self, name)\u001b[0m\n\u001b[1;32m    168\u001b[0m         \u001b[0;32mif\u001b[0m \u001b[0;32mnot\u001b[0m \u001b[0mself\u001b[0m\u001b[0;34m.\u001b[0m\u001b[0mavail\u001b[0m\u001b[0;34m:\u001b[0m\u001b[0;34m\u001b[0m\u001b[0m\n\u001b[1;32m    169\u001b[0m             \u001b[0;32mraise\u001b[0m \u001b[0mRuntimeError\u001b[0m\u001b[0;34m(\u001b[0m\u001b[0;34m\"No MovieWriters available!\"\u001b[0m\u001b[0;34m)\u001b[0m\u001b[0;34m\u001b[0m\u001b[0m\n\u001b[0;32m--> 170\u001b[0;31m         \u001b[0;32mreturn\u001b[0m \u001b[0mself\u001b[0m\u001b[0;34m.\u001b[0m\u001b[0mavail\u001b[0m\u001b[0;34m[\u001b[0m\u001b[0mname\u001b[0m\u001b[0;34m]\u001b[0m\u001b[0;34m\u001b[0m\u001b[0m\n\u001b[0m\u001b[1;32m    171\u001b[0m \u001b[0;34m\u001b[0m\u001b[0m\n\u001b[1;32m    172\u001b[0m \u001b[0mwriters\u001b[0m \u001b[0;34m=\u001b[0m \u001b[0mMovieWriterRegistry\u001b[0m\u001b[0;34m(\u001b[0m\u001b[0;34m)\u001b[0m\u001b[0;34m\u001b[0m\u001b[0m\n",
            "\u001b[0;31mKeyError\u001b[0m: 'ffmpeg'"
          ]
        },
        {
          "output_type": "display_data",
          "data": {
            "image/png": "[encoded data removed]",
            "text/plain": [
              "<matplotlib.figure.Figure at 0x7fd68d6a51d0>"
            ]
          },
          "metadata": {
            "tags": []
          }
        }
      ]
    },
    {
      "cell_type": "code",
      "metadata": {
        "id": "T6_6rtcvA0ae",
        "colab_type": "code",
        "colab": {}
      },
      "source": [
        "#model = model.eval()\n",
        "q = torch.randn(1, 14)\n",
        "print(q)\n",
        "plt.imshow(model.decoder(q.to(device)).view(28, 28).cpu().detach())"
      ],
      "execution_count": 0,
      "outputs": []
    },
    {
      "cell_type": "code",
      "metadata": {
        "id": "t4Wp9jEl-UGL",
        "colab_type": "code",
        "colab": {}
      },
      "source": [
        "model = model.eval()"
      ],
      "execution_count": 0,
      "outputs": []
    }
  ]
}